{
 "cells": [
  {
   "cell_type": "code",
   "execution_count": 3,
   "metadata": {},
   "outputs": [
    {
     "name": "stdout",
     "output_type": "stream",
     "text": [
      "Enter a lower bound: 4\n",
      "Enter a upper bound should be greater than Lower Bound : 14\n",
      "count_of_odd number=  5\n",
      "count_of_prime numbers =  4\n",
      "Prime numbers list:  [5, 7, 11, 13]\n"
     ]
    }
   ],
   "source": [
    "Bound_low=int(input(\"Enter a lower bound: \"))\n",
    "Bound_high=int(input(\"Enter a upper bound should be greater than Lower Bound : \"))\n",
    "count_of_odd_number=0\n",
    "for num in range(Bound_low, Bound_high + 1):\n",
    "    if num%2!=0:\n",
    "        count_of_odd_number+=1\n",
    "print(\"count_of_odd number= \", count_of_odd_number)\n",
    "\n",
    "list=[]\n",
    "count_of_prime_numbers=0\n",
    "for num in range(Bound_low, Bound_high + 1):\n",
    "    if num > 1:\n",
    "        for i in range(2, num):\n",
    "            if(num % i) == 0:\n",
    "                break\n",
    "        else:\n",
    "            count_of_prime_numbers+=1\n",
    "            list.append(num)\n",
    "print(\"count_of_prime numbers = \", count_of_prime_numbers)\n",
    "print(\"Prime numbers list: \", list)"
   ]
  },
  {
   "cell_type": "code",
   "execution_count": null,
   "metadata": {},
   "outputs": [],
   "source": []
  }
 ],
 "metadata": {
  "kernelspec": {
   "display_name": "Python 3",
   "language": "python",
   "name": "python3"
  },
  "language_info": {
   "codemirror_mode": {
    "name": "ipython",
    "version": 3
   },
   "file_extension": ".py",
   "mimetype": "text/x-python",
   "name": "python",
   "nbconvert_exporter": "python",
   "pygments_lexer": "ipython3",
   "version": "3.7.3"
  }
 },
 "nbformat": 4,
 "nbformat_minor": 2
}
